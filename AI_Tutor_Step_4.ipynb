{
 "cells": [
  {
   "cell_type": "markdown",
   "id": "0a941902",
   "metadata": {},
   "source": [
    "# Step 4: Add Voice Input\n",
    "Adding speech recognition to the AI Tutor using Whisper.\n",
    "- Date: July 21, 2025\n",
    "- Converts spoken questions to text, answered by DistilBERT."
   ]
  },
  {
   "cell_type": "code",
   "execution_count": 2,
   "id": "c41998a0",
   "metadata": {},
   "outputs": [
    {
     "name": "stdout",
     "output_type": "stream",
     "text": [
      "Full Path:  speech_test.wav\n",
      "File Exists:  True\n",
      "Dataset loaded from squad_dataset.pkl!\n"
     ]
    },
    {
     "name": "stderr",
     "output_type": "stream",
     "text": [
      "Device set to use cpu\n",
      "c:\\Users\\Ashwin\\AppData\\Local\\Programs\\Python\\Python313\\Lib\\site-packages\\whisper\\transcribe.py:132: UserWarning: FP16 is not supported on CPU; using FP32 instead\n",
      "  warnings.warn(\"FP16 is not supported on CPU; using FP32 instead\")\n"
     ]
    },
    {
     "name": "stdout",
     "output_type": "stream",
     "text": [
      "Transcribed Question:  What is the capital of France?\n",
      "Answer: Paris\n",
      "Confidence: 0.99\n"
     ]
    }
   ],
   "source": [
    "import whisper\n",
    "import pickle\n",
    "from transformers import pipeline\n",
    "import os\n",
    "\n",
    "# Verify audio file\n",
    "audio_file = \"speech_test.wav\" \n",
    "print(\"Full Path: \", audio_file)\n",
    "print(\"File Exists: \", os.path.exists(audio_file))  # Should be True\n",
    "\n",
    "# Load SQuAD dataset\n",
    "with open('squad_dataset.pkl', 'rb') as file:\n",
    "    dataset = pickle.load(file)\n",
    "\n",
    "print(\"Dataset loaded from squad_dataset.pkl!\")\n",
    "\n",
    "# Load Whisper model\n",
    "whisper_model = whisper.load_model(\"base\")\n",
    "\n",
    "# Load QA pipeline\n",
    "text_qa = pipeline(\"question-answering\", model=\"distilbert-base-cased-distilled-squad\")\n",
    "\n",
    "# Transcribe audio\n",
    "result = whisper_model.transcribe(audio_file)\n",
    "transcribed_text = result[\"text\"]\n",
    "print(f\"Transcribed Question: {transcribed_text}\")\n",
    "\n",
    "# Answer using DistilBERT\n",
    "context = \"The capital of France is Paris.\"\n",
    "result = text_qa(question=transcribed_text, context=context)\n",
    "print(f\"Answer: {result['answer']}\")\n",
    "print(f\"Confidence: {result['score']:.2f}\")"
   ]
  },
  {
   "cell_type": "markdown",
   "id": "40ef91b2",
   "metadata": {},
   "source": [
    "## Observations\n",
    "- Whisper accurately transcribed \"What is the capital of France?\" from speech_test.wav.\n",
    "- DistilBERT answered \"Paris\" with high confidence (0.99) using a matching context.\n",
    "- Fixed incorrect answer by updating context to align with the question.\n",
    "- This adds voice input, making the AI Tutor multimodal."
   ]
  }
 ],
 "metadata": {
  "kernelspec": {
   "display_name": "Python 3",
   "language": "python",
   "name": "python3"
  },
  "language_info": {
   "codemirror_mode": {
    "name": "ipython",
    "version": 3
   },
   "file_extension": ".py",
   "mimetype": "text/x-python",
   "name": "python",
   "nbconvert_exporter": "python",
   "pygments_lexer": "ipython3",
   "version": "3.13.5"
  }
 },
 "nbformat": 4,
 "nbformat_minor": 5
}
