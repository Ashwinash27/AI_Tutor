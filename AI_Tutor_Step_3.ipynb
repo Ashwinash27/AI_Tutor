{
 "cells": [
  {
   "cell_type": "markdown",
   "id": "6e622c6d",
   "metadata": {},
   "source": [
    "# Step 3: Build Basic Text-Based Tutor\n",
    "Creating a simple question-answering system using SQuAD and a pre-trained model.\n",
    "- Date: July 21, 2025\n",
    "- This step uses the SQuAD dataset from Step 2 to answer questions from text."
   ]
  },
  {
   "cell_type": "code",
   "execution_count": 3,
   "id": "61c56a34",
   "metadata": {},
   "outputs": [
    {
     "name": "stderr",
     "output_type": "stream",
     "text": [
      "Device set to use cpu\n"
     ]
    },
    {
     "name": "stdout",
     "output_type": "stream",
     "text": [
      "Dataset loaded from squad_dataset.pkl!\n",
      "Question: What is in front of the Notre Dame Main Building?\n",
      "Answer: a copper statue of Christ\n",
      "Confidence: 0.36\n"
     ]
    }
   ],
   "source": [
    "from transformers import pipeline\n",
    "import pickle\n",
    "\n",
    "# Load SQuAD dataset from file\n",
    "with open('squad_dataset.pkl', 'rb') as file:\n",
    "    dataset = pickle.load(file)\n",
    "\n",
    "print(\"Dataset loaded from squad_dataset.pkl!\")\n",
    "\n",
    "# Create the question-answering tool\n",
    "text_qa = pipeline(\"question-answering\", model=\"distilbert-base-cased-distilled-squad\")\n",
    "\n",
    "# Test with SQuAD example\n",
    "context = dataset['train'][1]['context']\n",
    "question = dataset['train'][1]['question']\n",
    "result = text_qa(question=question, context=context)\n",
    "print(f\"Question: {question}\")\n",
    "print(f\"Answer: {result['answer']}\")\n",
    "print(f\"Confidence: {result['score']:.2f}\")"
   ]
  },
  {
   "cell_type": "code",
   "execution_count": 5,
   "id": "78602e0d",
   "metadata": {},
   "outputs": [
    {
     "name": "stdout",
     "output_type": "stream",
     "text": [
      "Question: What is the capital of France?\n",
      "Answer: Paris\n",
      "Confidence: 0.99\n"
     ]
    }
   ],
   "source": [
    "# Custom test\n",
    "context = \"The capital of France is Paris.\"\n",
    "question = \"What is the capital of France?\"\n",
    "result = text_qa(question=question, context=context)\n",
    "print(f\"Question: {question}\")\n",
    "print(f\"Answer: {result['answer']}\")\n",
    "print(f\"Confidence: {result['score']:.2f}\")"
   ]
  },
  {
   "cell_type": "code",
   "execution_count": 6,
   "id": "d12c0da7",
   "metadata": {},
   "outputs": [
    {
     "name": "stdout",
     "output_type": "stream",
     "text": [
      "Question: What does photosynthesis do?\n",
      "Answer: produce energy in plants\n",
      "Confidence: 0.17\n"
     ]
    }
   ],
   "source": [
    "context = \"Photosynthesis uses sunlight to produce energy in plants.\"\n",
    "question = \"What does photosynthesis do?\"\n",
    "result = text_qa(question=question, context=context)\n",
    "print(f\"Question: {question}\")\n",
    "print(f\"Answer: {result['answer']}\")\n",
    "print(f\"Confidence: {result['score']:.2f}\")"
   ]
  },
  {
   "cell_type": "markdown",
   "id": "e19e7c96",
   "metadata": {},
   "source": [
    "## Observations\n",
    "- DistilBERT answers questions accurately from SQuAD (loaded via pickle) and custom inputs.\n",
    "- Confidence scores (e.g., 0.99) show the model is reliable for clear questions.\n",
    "- This is the text-based core of the AI Tutor, ready to add voice and image features."
   ]
  }
 ],
 "metadata": {
  "kernelspec": {
   "display_name": "Python 3",
   "language": "python",
   "name": "python3"
  },
  "language_info": {
   "codemirror_mode": {
    "name": "ipython",
    "version": 3
   },
   "file_extension": ".py",
   "mimetype": "text/x-python",
   "name": "python",
   "nbconvert_exporter": "python",
   "pygments_lexer": "ipython3",
   "version": "3.13.5"
  }
 },
 "nbformat": 4,
 "nbformat_minor": 5
}
