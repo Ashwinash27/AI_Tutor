{
 "cells": [
  {
   "cell_type": "code",
   "execution_count": 3,
   "id": "ec0f1e5c",
   "metadata": {},
   "outputs": [
    {
     "name": "stderr",
     "output_type": "stream",
     "text": [
      "c:\\Users\\Ashwin\\AppData\\Local\\Programs\\Python\\Python313\\Lib\\site-packages\\tqdm\\auto.py:21: TqdmWarning: IProgress not found. Please update jupyter and ipywidgets. See https://ipywidgets.readthedocs.io/en/stable/user_install.html\n",
      "  from .autonotebook import tqdm as notebook_tqdm\n"
     ]
    },
    {
     "name": "stdout",
     "output_type": "stream",
     "text": [
      "All libraries imported successfully!\n"
     ]
    }
   ],
   "source": [
    "import transformers\n",
    "import datasets\n",
    "import torch\n",
    "import gradio as gr\n",
    "from llama_index.core import VectorStoreIndex\n",
    "import spacy\n",
    "import whisper\n",
    "\n",
    "print(\"All libraries imported successfully!\")\n"
   ]
  },
  {
   "cell_type": "markdown",
   "id": "eabc4164",
   "metadata": {},
   "source": [
    "Step 2: Explore and Load Data\n",
    "Loading educational datasets from Hugging Face for the AI Tutor.\n",
    "- Date: July 21, 2025"
   ]
  },
  {
   "cell_type": "code",
   "execution_count": 4,
   "id": "9513e245",
   "metadata": {},
   "outputs": [
    {
     "name": "stdout",
     "output_type": "stream",
     "text": [
      "DatasetDict({\n",
      "    train: Dataset({\n",
      "        features: ['id', 'title', 'context', 'question', 'answers'],\n",
      "        num_rows: 87599\n",
      "    })\n",
      "    validation: Dataset({\n",
      "        features: ['id', 'title', 'context', 'question', 'answers'],\n",
      "        num_rows: 10570\n",
      "    })\n",
      "})\n",
      "\n",
      "First Sample:\n",
      "{'id': '5733be284776f41900661182', 'title': 'University_of_Notre_Dame', 'context': 'Architecturally, the school has a Catholic character. Atop the Main Building\\'s gold dome is a golden statue of the Virgin Mary. Immediately in front of the Main Building and facing it, is a copper statue of Christ with arms upraised with the legend \"Venite Ad Me Omnes\". Next to the Main Building is the Basilica of the Sacred Heart. Immediately behind the basilica is the Grotto, a Marian place of prayer and reflection. It is a replica of the grotto at Lourdes, France where the Virgin Mary reputedly appeared to Saint Bernadette Soubirous in 1858. At the end of the main drive (and in a direct line that connects through 3 statues and the Gold Dome), is a simple, modern stone statue of Mary.', 'question': 'To whom did the Virgin Mary allegedly appear in 1858 in Lourdes France?', 'answers': {'text': ['Saint Bernadette Soubirous'], 'answer_start': [515]}}\n"
     ]
    }
   ],
   "source": [
    "from datasets import load_dataset\n",
    "\n",
    "# Load SQuAD dataset\n",
    "dataset = load_dataset(\"squad\")\n",
    "\n",
    "# Print structure\n",
    "print(dataset)\n",
    "\n",
    "# View first example\n",
    "print(\"\\nFirst Sample:\")\n",
    "print(dataset['train'][0])  # Shows 'question', 'context', 'answers'"
   ]
  },
  {
   "cell_type": "code",
   "execution_count": 5,
   "id": "fb348fc3",
   "metadata": {},
   "outputs": [
    {
     "name": "stdout",
     "output_type": "stream",
     "text": [
      "DatasetDict({\n",
      "    test: Dataset({\n",
      "        features: ['image', 'caption', 'sentids', 'img_id', 'filename'],\n",
      "        num_rows: 31783\n",
      "    })\n",
      "})\n",
      "\n",
      "First Sample:\n",
      "{'image': <PIL.JpegImagePlugin.JpegImageFile image mode=RGB size=333x500 at 0x215B55C6900>, 'caption': ['Two young guys with shaggy hair look at their hands while hanging out in the yard .', 'Two young  White males are outside near many bushes .', 'Two men in green shirts are standing in a yard .', 'A man in a blue shirt standing in a garden .', 'Two friends enjoy time spent together .'], 'sentids': ['0', '1', '2', '3', '4'], 'img_id': '0', 'filename': '1000092795.jpg'}\n"
     ]
    }
   ],
   "source": [
    "# Load Flickr30k\n",
    "multimodal_dataset = load_dataset(\"lmms-lab/flickr30k\")\n",
    "\n",
    "# Print structure\n",
    "print(multimodal_dataset)\n",
    "\n",
    "# View first example\n",
    "print(\"\\nFirst Sample:\")\n",
    "print(multimodal_dataset['test'][0])  # Shows 'caption', 'image_id'"
   ]
  },
  {
   "cell_type": "code",
   "execution_count": 6,
   "id": "5efdafff",
   "metadata": {},
   "outputs": [
    {
     "name": "stdout",
     "output_type": "stream",
     "text": [
      "Dataset saved to squad_dataset.pkl!\n"
     ]
    }
   ],
   "source": [
    "import pickle\n",
    "\n",
    "# Save SQuAD dataset to a file (in your project folder)\n",
    "with open('squad_dataset.pkl', 'wb') as file:\n",
    "    pickle.dump(dataset, file)\n",
    "\n",
    "print(\"Dataset saved to squad_dataset.pkl!\")"
   ]
  }
 ],
 "metadata": {
  "kernelspec": {
   "display_name": "Python 3",
   "language": "python",
   "name": "python3"
  },
  "language_info": {
   "codemirror_mode": {
    "name": "ipython",
    "version": 3
   },
   "file_extension": ".py",
   "mimetype": "text/x-python",
   "name": "python",
   "nbconvert_exporter": "python",
   "pygments_lexer": "ipython3",
   "version": "3.13.5"
  }
 },
 "nbformat": 4,
 "nbformat_minor": 5
}
