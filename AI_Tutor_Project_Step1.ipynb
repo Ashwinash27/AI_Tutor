{
 "cells": [
  {
   "cell_type": "code",
   "execution_count": 2,
   "id": "ec0f1e5c",
   "metadata": {},
   "outputs": [
    {
     "name": "stdout",
     "output_type": "stream",
     "text": [
      "All libraries imported successfully!\n"
     ]
    }
   ],
   "source": [
    "import transformers\n",
    "import datasets\n",
    "import torch\n",
    "import gradio as gr\n",
    "from llama_index.core import VectorStoreIndex\n",
    "import spacy\n",
    "import whisper\n",
    "\n",
    "print(\"All libraries imported successfully!\")\n"
   ]
  },
  {
   "cell_type": "markdown",
   "id": "2c1a6f19",
   "metadata": {},
   "source": [
    "Step 1: Local Environment Setup - Completed on 18/07/2025"
   ]
  },
  {
   "cell_type": "code",
   "execution_count": null,
   "id": "9513e245",
   "metadata": {},
   "outputs": [],
   "source": []
  }
 ],
 "metadata": {
  "kernelspec": {
   "display_name": "Python 3",
   "language": "python",
   "name": "python3"
  },
  "language_info": {
   "codemirror_mode": {
    "name": "ipython",
    "version": 3
   },
   "file_extension": ".py",
   "mimetype": "text/x-python",
   "name": "python",
   "nbconvert_exporter": "python",
   "pygments_lexer": "ipython3",
   "version": "3.13.5"
  }
 },
 "nbformat": 4,
 "nbformat_minor": 5
}
