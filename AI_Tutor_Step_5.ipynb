{
 "cells": [
  {
   "cell_type": "markdown",
   "id": "0611482c",
   "metadata": {},
   "source": [
    "# Step 5: Add Visual Input\n",
    "Adding image processing to the AI Tutor using BLIP and Flickr30k.\n",
    "- Date: July 21, 2025\n",
    "- Describes images and integrates with Q&A system."
   ]
  },
  {
   "cell_type": "code",
   "execution_count": 3,
   "id": "ed0ea787",
   "metadata": {},
   "outputs": [
    {
     "name": "stdout",
     "output_type": "stream",
     "text": [
      "Flickr30k loaded!\n"
     ]
    },
    {
     "name": "stderr",
     "output_type": "stream",
     "text": [
      "c:\\Users\\Ashwin\\AppData\\Local\\Programs\\Python\\Python313\\Lib\\site-packages\\huggingface_hub\\file_download.py:143: UserWarning: `huggingface_hub` cache-system uses symlinks by default to efficiently store duplicated files but your machine does not support them in C:\\Users\\Ashwin\\.cache\\huggingface\\hub\\models--Salesforce--blip-image-captioning-base. Caching files will still work but in a degraded version that might require more space on your disk. This warning can be disabled by setting the `HF_HUB_DISABLE_SYMLINKS_WARNING` environment variable. For more details, see https://huggingface.co/docs/huggingface_hub/how-to-cache#limitations.\n",
      "To support symlinks on Windows, you either need to activate Developer Mode or to run Python as an administrator. In order to activate developer mode, see this article: https://docs.microsoft.com/en-us/windows/apps/get-started/enable-your-device-for-development\n",
      "  warnings.warn(message)\n",
      "Using a slow image processor as `use_fast` is unset and a slow processor was saved with this model. `use_fast=True` will be the default behavior in v4.52, even if the model was saved with a slow processor. This will result in minor differences in outputs. You'll still be able to use a slow processor with `use_fast=False`.\n",
      "Device set to use cpu\n"
     ]
    },
    {
     "name": "stdout",
     "output_type": "stream",
     "text": [
      "Image Caption: a yellow background with a black and white image of a number\n"
     ]
    },
    {
     "name": "stderr",
     "output_type": "stream",
     "text": [
      "Device set to use cpu\n"
     ]
    },
    {
     "name": "stdout",
     "output_type": "stream",
     "text": [
      "Question: What is shown in the image?\n",
      "Answer: a number\n",
      "Confidence: 0.60\n"
     ]
    }
   ],
   "source": [
    "from transformers import pipeline\n",
    "import pickle\n",
    "from PIL import Image\n",
    "from datasets import load_dataset\n",
    "\n",
    "# Load Flickr30k dataset (for context or future use)\n",
    "multimodal_dataset = load_dataset(\"lmms-lab/flickr30k\")\n",
    "print(\"Flickr30k loaded!\")\n",
    "\n",
    "# Load image captioning pipeline\n",
    "image_to_text = pipeline(\"image-to-text\", model=\"Salesforce/blip-image-captioning-base\")\n",
    "\n",
    "# Test with a sample image (replace with your image path)\n",
    "image_path = \"math.jpg\"  # Replace with your file, e.g., \"math_diagram.jpg\"\n",
    "image = Image.open(image_path)\n",
    "caption = image_to_text(image)[0]['generated_text']\n",
    "print(f\"Image Caption: {caption}\")\n",
    "\n",
    "# Use caption as context for Q&A\n",
    "text_qa = pipeline(\"question-answering\", model=\"distilbert-base-cased-distilled-squad\")\n",
    "question = \"What is shown in the image?\"\n",
    "result = text_qa(question=question, context=caption)\n",
    "print(f\"Question: {question}\")\n",
    "print(f\"Answer: {result['answer']}\")\n",
    "print(f\"Confidence: {result['score']:.2f}\")"
   ]
  },
  {
   "cell_type": "markdown",
   "id": "b95ca597",
   "metadata": {},
   "source": [
    "## Observations\n",
    "- BLIP generated an accurate caption for math.jpg: \"a yellow background with a black and white image of a number\".\n",
    "- DistilBERT answered image-related questions, with confidence varying (e.g., 0.60 for vague questions, higher for specific ones).\n",
    "- This completes the multimodal AI Tutor (text, voice, images), ready for knowledge retrieval in Step 6."
   ]
  }
 ],
 "metadata": {
  "kernelspec": {
   "display_name": "Python 3",
   "language": "python",
   "name": "python3"
  },
  "language_info": {
   "codemirror_mode": {
    "name": "ipython",
    "version": 3
   },
   "file_extension": ".py",
   "mimetype": "text/x-python",
   "name": "python",
   "nbconvert_exporter": "python",
   "pygments_lexer": "ipython3",
   "version": "3.13.5"
  }
 },
 "nbformat": 4,
 "nbformat_minor": 5
}
